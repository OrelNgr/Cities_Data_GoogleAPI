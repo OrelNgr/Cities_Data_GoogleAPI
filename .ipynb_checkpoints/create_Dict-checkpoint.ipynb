{
 "cells": [
  {
   "cell_type": "code",
   "execution_count": null,
   "metadata": {},
   "outputs": [],
   "source": [
    "# Combine the two lists to create the dict\n",
    "def create_Dict(lst1,lst2):\n",
    "    our_Dict=dict()\n",
    "    for i in range(len(lst1)):\n",
    "        our_Dict[lst1[i][0]]=(lst1[i][1],lst1[i][2],lst2[i][1],lst2[i][2])\n",
    "    return our_Dict"
   ]
  }
 ],
 "metadata": {
  "kernelspec": {
   "display_name": "Python 3",
   "language": "python",
   "name": "python3"
  },
  "language_info": {
   "codemirror_mode": {
    "name": "ipython",
    "version": 3
   },
   "file_extension": ".py",
   "mimetype": "text/x-python",
   "name": "python",
   "nbconvert_exporter": "python",
   "pygments_lexer": "ipython3",
   "version": "3.7.6"
  }
 },
 "nbformat": 4,
 "nbformat_minor": 4
}
