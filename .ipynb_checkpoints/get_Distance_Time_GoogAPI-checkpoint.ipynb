{
 "cells": [
  {
   "cell_type": "code",
   "execution_count": null,
   "metadata": {},
   "outputs": [],
   "source": [
    "# Get Distance & Times from google api, returnes List \n",
    "def get_Distance_Time_GoogAPI(locations_list,origin_city,api_key):\n",
    "    import json\n",
    "    import requests\n",
    "    mylist=[]\n",
    "    for loc in locations_list:\n",
    "        url=\"https://maps.googleapis.com/maps/api/distancematrix/json?origins=%s&destinations=%s&key=%s\" % (origin_city,loc,api_key)\n",
    "        try:\n",
    "            response = requests.get(url)\n",
    "            if not response.status_code == 200:\n",
    "                print(\"HTTP error\",response.status_code,\" for \" + loc + \" \" + origin_city)\n",
    "            else:\n",
    "                try:\n",
    "                    response_data_Distance = response.json()\n",
    "                    try:\n",
    "                        #print(json.dumps(response_data_Distance,ensure_ascii=False,sort_keys=True, indent=2))\n",
    "                        #print(str(response_data_Distance[\"destination_addresses\"]).strip(\"']\").strip(\"['\"))\n",
    "                        #print(str(response_data_Distance[\"rows\"][0][\"elements\"][0][\"distance\"][\"value\"]/1000.0)+\" Km\")\n",
    "                        #print(\"Hours \" + str(round(response_data_Distance[\"rows\"][0][\"elements\"][0][\"duration\"][\"value\"]/3600.0,4)) + \" / Minutes \" + str(round(response_data_Distance[\"rows\"][0][\"elements\"][0][\"duration\"][\"value\"]/60.0,4)))\n",
    "                        details=[str(response_data_Distance[\"destination_addresses\"]).strip(\"']\").strip(\"['\"),\n",
    "                                str(response_data_Distance[\"rows\"][0][\"elements\"][0][\"distance\"][\"value\"]/1000.0)+\" Km\",\n",
    "                                \"Hours \" + str(round(response_data_Distance[\"rows\"][0][\"elements\"][0][\"duration\"][\"value\"]/3600.0,4)) + \" / Minutes \" + str(round(response_data_Distance[\"rows\"][0][\"elements\"][0][\"duration\"][\"value\"]/60.0,4))\n",
    "                                ]\n",
    "                        mylist.append(details)\n",
    "                    except:\n",
    "                        print(\"the status of the API request for \"+ loc + \" \" + origin_city + \" is NO RESULTS\")\n",
    "                except:\n",
    "                    print(\"Response not in valid JSON format for \" + loc + \" \" + origin_city)\n",
    "        except:\n",
    "            print(\"Something went wrong with requests.get for \" + loc + \" \" + origin_city)\n",
    "    return mylist"
   ]
  }
 ],
 "metadata": {
  "kernelspec": {
   "display_name": "Python 3",
   "language": "python",
   "name": "python3"
  },
  "language_info": {
   "codemirror_mode": {
    "name": "ipython",
    "version": 3
   },
   "file_extension": ".py",
   "mimetype": "text/x-python",
   "name": "python",
   "nbconvert_exporter": "python",
   "pygments_lexer": "ipython3",
   "version": "3.7.6"
  }
 },
 "nbformat": 4,
 "nbformat_minor": 4
}
