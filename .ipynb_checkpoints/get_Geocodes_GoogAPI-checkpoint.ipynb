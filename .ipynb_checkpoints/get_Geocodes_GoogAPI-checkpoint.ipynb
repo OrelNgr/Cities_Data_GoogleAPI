{
 "cells": [
  {
   "cell_type": "code",
   "execution_count": null,
   "metadata": {},
   "outputs": [],
   "source": [
    "# Get lng and lat from google api, returnes List\n",
    "def get_Geocodes_GoogAPI(locations_list,api_key):\n",
    "    import json\n",
    "    import requests\n",
    "    mylist=[]\n",
    "    for loc in locations_list:\n",
    "        url=\"https://maps.googleapis.com/maps/api/geocode/json?address=%s&key=%s\" % (loc,api_key)        \n",
    "        try:\n",
    "            response = requests.get(url)\n",
    "            if not response.status_code == 200:\n",
    "                print(\"HTTP error\",response.status_code,\" for \" + loc)\n",
    "            else:\n",
    "                try:\n",
    "                    response_data_Geo = response.json()\n",
    "                    #print(json.dumps(response_data_Geo,ensure_ascii=False,sort_keys=True, indent=2))\n",
    "                    details=[response_data_Geo[\"results\"][0][\"formatted_address\"],\n",
    "                            str(response_data_Geo[\"results\"][0][\"geometry\"][\"location\"][\"lng\"]) + \" Lng\",\n",
    "                            str(response_data_Geo[\"results\"][0][\"geometry\"][\"location\"][\"lat\"]) + \" Lat\"\n",
    "                             ]\n",
    "                    mylist.append(details)\n",
    "                except:\n",
    "                    print(\"Response not in valid JSON format for \" + loc)\n",
    "        except:\n",
    "            print(\"Something went wrong with requests.get for \" + loc)\n",
    "    return mylist"
   ]
  }
 ],
 "metadata": {
  "kernelspec": {
   "display_name": "Python 3",
   "language": "python",
   "name": "python3"
  },
  "language_info": {
   "codemirror_mode": {
    "name": "ipython",
    "version": 3
   },
   "file_extension": ".py",
   "mimetype": "text/x-python",
   "name": "python",
   "nbconvert_exporter": "python",
   "pygments_lexer": "ipython3",
   "version": "3.7.6"
  }
 },
 "nbformat": 4,
 "nbformat_minor": 4
}
