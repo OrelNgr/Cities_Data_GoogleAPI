{
 "cells": [
  {
   "cell_type": "code",
   "execution_count": null,
   "metadata": {
    "scrolled": true
   },
   "outputs": [],
   "source": [
    "import pprint \n",
    "\n",
    "#get values from user\n",
    "myFile=open(input(\"Please enter your destinations file path with it's full name: \"),encoding='utf8')\n",
    "locations_list = [s.strip() for s in myFile]\n",
    "origin_city=input(\"please insert origin city in Hebrew: \")\n",
    "api_key=input('please enter your api key, dont worry this is fully encrypted: ')\n",
    "\n",
    "# get the distance and time from function\n",
    "response_data_Distance=get_Distance_Time_GoogAPI(locations_list,origin_city,api_key)\n",
    "\n",
    "# get the lat and long from function\n",
    "response_data_Geo=get_Geocodes_GoogAPI(locations_list,api_key)\n",
    "\n",
    "# create a Dict from both lists that we got from Google API's\n",
    "my_Dict=create_Dict(response_data_Distance,response_data_Geo)\n",
    "\n",
    "# print it \n",
    "pp = pprint.PrettyPrinter(indent=4)\n",
    "print()\n",
    "print(pp.pprint(my_Dict))\n",
    "print()\n",
    "\n",
    "# print 3 most distanced cities from origin city\n",
    "print(\"The 3 furthest cities from \" + origin_city + \",sort by most to least, are:\")\n",
    "print('-> '.join(list({k: v for k, v in sorted(my_Dict.items(), key=lambda item: (float(item[1][0].strip(\" Km\"))), reverse=True)}.keys())[0:3]))\n",
    "# print if error\n",
    "if len((list({k: v for k, v in sorted(my_Dict.items(), key=lambda item: (float(item[1][0].strip(\" Km\"))), reverse=True)}.keys())[0:3]))==0:\n",
    "    print(\"No data, please insert different cities\")"
   ]
  }
 ],
 "metadata": {
  "kernelspec": {
   "display_name": "Python 3",
   "language": "python",
   "name": "python3"
  },
  "language_info": {
   "codemirror_mode": {
    "name": "ipython",
    "version": 3
   },
   "file_extension": ".py",
   "mimetype": "text/x-python",
   "name": "python",
   "nbconvert_exporter": "python",
   "pygments_lexer": "ipython3",
   "version": "3.7.6"
  }
 },
 "nbformat": 4,
 "nbformat_minor": 4
}
